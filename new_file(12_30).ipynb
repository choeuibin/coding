{
  "nbformat": 4,
  "nbformat_minor": 0,
  "metadata": {
    "colab": {
      "provenance": [],
      "mount_file_id": "1X1j2kEceEaA4o27k88A1JwHiCXCLX017",
      "authorship_tag": "ABX9TyMfGnYLwBa66RJU7be6IV4L",
      "include_colab_link": true
    },
    "kernelspec": {
      "name": "python3",
      "display_name": "Python 3"
    },
    "language_info": {
      "name": "python"
    }
  },
  "cells": [
    {
      "cell_type": "markdown",
      "metadata": {
        "id": "view-in-github",
        "colab_type": "text"
      },
      "source": [
        "<a href=\"https://colab.research.google.com/github/choeuibin/coding/blob/main/new_file(12_30).ipynb\" target=\"_parent\"><img src=\"https://colab.research.google.com/assets/colab-badge.svg\" alt=\"Open In Colab\"/></a>"
      ]
    },
    {
      "cell_type": "markdown",
      "source": [
        "#12.30일 첫번째 코딩 작업 \n",
        "## 조의빈 \n",
        "### 사칙연산 프로그램 "
      ],
      "metadata": {
        "id": "heTphhPSmw2c"
      }
    },
    {
      "cell_type": "code",
      "source": [
        "while 1:\n",
        "  data = input().split(' ')\n",
        "  data[0] = int(data[0])\n",
        "  "
      ],
      "metadata": {
        "colab": {
          "base_uri": "https://localhost:8080/"
        },
        "id": "KhY7tOGXnEVO",
        "outputId": "aa0fadd7-f265-4b2b-b00d-6c8c235f889b"
      },
      "execution_count": 3,
      "outputs": [
        {
          "output_type": "stream",
          "name": "stdout",
          "text": [
            "8\n"
          ]
        }
      ]
    }
  ]
}
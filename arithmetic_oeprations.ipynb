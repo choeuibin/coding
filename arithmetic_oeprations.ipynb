{
  "nbformat": 4,
  "nbformat_minor": 0,
  "metadata": {
    "colab": {
      "provenance": [],
      "authorship_tag": "ABX9TyNwcMsjGaxsYqrx5QgqFd5T",
      "include_colab_link": true
    },
    "kernelspec": {
      "name": "python3",
      "display_name": "Python 3"
    },
    "language_info": {
      "name": "python"
    }
  },
  "cells": [
    {
      "cell_type": "markdown",
      "metadata": {
        "id": "view-in-github",
        "colab_type": "text"
      },
      "source": [
        "<a href=\"https://colab.research.google.com/github/choeuibin/coding/blob/main/arithmetic_oeprations.ipynb\" target=\"_parent\"><img src=\"https://colab.research.google.com/assets/colab-badge.svg\" alt=\"Open In Colab\"/></a>"
      ]
    },
    {
      "cell_type": "markdown",
      "source": [
        "#사칙연산 프로그램"
      ],
      "metadata": {
        "id": "v_7XjHATUE7S"
      }
    },
    {
      "cell_type": "code",
      "execution_count": null,
      "metadata": {
        "id": "eqKIoylBT_uK"
      },
      "outputs": [],
      "source": [
        "\n",
        "number1 = int(input(\"input the first number : \"))\n",
        "number2 = int(input(\"input the second number : \"))\n",
        "\n",
        "print(\"the numbers you input : (\" ,number1,\",\",number2, \")\")\n",
        "\n",
        "print(number1 , \"+\" , number2, \"=\", number1 + number2)\n",
        "print(number1 , \"-\" , number2, \"=\", number1 - number2)\n",
        "print(number1 , \"x\" , number2, \"=\", number1 * number2)\n",
        "print(number1 , \"/\" , number2, \"=\", number1 / number2)"
      ]
    }
  ]
}